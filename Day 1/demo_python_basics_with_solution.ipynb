{
 "cells": [
  {
   "cell_type": "markdown",
   "metadata": {
    "id": "66ZZ59uiIjl-"
   },
   "source": [
    "## Variables\n",
    "We'll use integers for now, but there exist many more data-types.\n",
    "Variables are ways we deal with data, assign values, and allow interaction in the computer.\n",
    "Notice that re-assigning ```a``` variable does not change the value of ```c``` becuase **code is executed sequentially**"
   ]
  },
  {
   "cell_type": "code",
   "execution_count": 3,
   "metadata": {
    "colab": {
     "base_uri": "https://localhost:8080/"
    },
    "id": "VDF6wc3IIjl-",
    "outputId": "3e99aa10-e01f-45ec-ab46-d515d26f5199"
   },
   "outputs": [
    {
     "name": "stdout",
     "output_type": "stream",
     "text": [
      "a =  5\n",
      "b =  2\n",
      "c =  7\n",
      "a =  3\n",
      "b =  2\n",
      "c =  7\n",
      "c =  5\n"
     ]
    }
   ],
   "source": [
    "a = 5\n",
    "b = 2\n",
    "\n",
    "print('a = ', a)\n",
    "print('b = ', b)\n",
    "\n",
    "c = a + b\n",
    "print('c = ', c)\n",
    "\n",
    "a = 3\n",
    "\n",
    "print('a = ', a)\n",
    "print('b = ', b)\n",
    "print('c = ', c)\n",
    "\n",
    "c = a + b\n",
    "print('c = ', c)"
   ]
  },
  {
   "cell_type": "markdown",
   "metadata": {
    "id": "22na4BBNIjmF"
   },
   "source": [
    "## If-Statements\n",
    "Basic inequality statements: ```==, !=, >=, <=, >, <```. If statements are used to conditionally execute a line of code. Inequality statements return **boolean** variables types: ```True``` or ```False```. Contents of an if-statement are only evaluated when the condition is ```True```. *Extra: look into elseif statements.*\n"
   ]
  },
  {
   "cell_type": "code",
   "execution_count": 15,
   "metadata": {
    "colab": {
     "base_uri": "https://localhost:8080/"
    },
    "id": "Yct3wpGNIjmF",
    "outputId": "81b791e4-9683-4521-bd21-24f76282900f"
   },
   "outputs": [
    {
     "name": "stdout",
     "output_type": "stream",
     "text": [
      "Booleans are great!\n",
      "Is a greater than 0? True\n",
      "a is greater than 0!\n",
      "Yep, a + b =  5\n"
     ]
    }
   ],
   "source": [
    "if True:                             ## True, implement the code, print('Booleans are great!')\n",
    "    print('Booleans are great!')\n",
    "    \n",
    "if False:                            ## False, don't implement the code\n",
    "    print('This will never be printed!')\n",
    "\n",
    "print('Is a greater than 0?', a > 0)    ## a = 3 in our last block, a > 0 is True\n",
    "\n",
    "if a > 0:                            ## True, implement the code,\n",
    "    print('a is greater than 0!')\n",
    "    \n",
    "if a + b == c:                         ## a = 3, b = 2, c = 5 in our last block, a+b = c\n",
    "    print('Yep, a + b = ', a + b)           \n",
    "else:                                 ## else means not (a+b == c), means (a+b != c), \n",
    "    print('Nope, a + b = ', a + b)         "
   ]
  },
  {
   "cell_type": "markdown",
   "metadata": {
    "id": "Xjn9uTS2IjmI"
   },
   "source": [
    "## Functions\n",
    "Functions are used to define lines of code we wish to execute later or reuse. Functions may return a variable from being called, which is signified by their return statement. A return statement is optional. Functions can take in parameters with and/or without key-word arguments (kwargs).\n",
    "\n",
    "Functions are very powerful. If find yourself copying and pasting code in multiple places, consider writing a function instead."
   ]
  },
  {
   "cell_type": "code",
   "execution_count": 23,
   "metadata": {
    "colab": {
     "base_uri": "https://localhost:8080/"
    },
    "id": "wGZ0WTqZIjmJ",
    "outputId": "eef77e60-42b2-4bc9-fd97-b12d4f4c8cf6"
   },
   "outputs": [
    {
     "name": "stdout",
     "output_type": "stream",
     "text": [
      "var =  11\n",
      "17\n"
     ]
    }
   ],
   "source": [
    "def myPrintFunc(x):               ## This is how you define you function\n",
    "    print('var = ', x)\n",
    "    \n",
    "def myFunc(x, y):                ## What's this function doing?\n",
    "    return x + y\n",
    "\n",
    "a = myFunc(a, b)                  ## a = a + b = 3 + 2 = 5\n",
    "\n",
    "def myFunc2(x, y, show=True):     ## what's this function doing?\n",
    "    w = myFunc(x, y)              ## w = a + b\n",
    "    if show:                      ## show = True\n",
    "        myPrintFunc(w)            ## print w, which is w = a + b\n",
    "    return w\n",
    "\n",
    "a = 5\n",
    "b = 6\n",
    "\n",
    "a = myFunc2(a,b)                  ## a = a + b = 5 + 2 = 7\n",
    "a = myFunc2(a,b, show=False)      ## a = a + b = 7 + 2 = 9\n",
    "print(a)"
   ]
  },
  {
   "cell_type": "markdown",
   "metadata": {
    "id": "99l7ApjuIjmP"
   },
   "source": [
    "## Lists\n",
    "Python has a datatype of lists, which stores an ordered array of objects. Objects in the list may be accessed and altered by indexing. *Extra: dictionaries*."
   ]
  },
  {
   "cell_type": "code",
   "execution_count": 27,
   "metadata": {
    "colab": {
     "base_uri": "https://localhost:8080/"
    },
    "id": "qCa2HCKoIjmQ",
    "outputId": "e50a9dd5-4a4e-4fb1-c300-1c3c715150bf"
   },
   "outputs": [
    {
     "name": "stdout",
     "output_type": "stream",
     "text": [
      "[2, -5, 6, False, 56]\n",
      "2\n",
      "6\n",
      "6\n"
     ]
    }
   ],
   "source": [
    "list_x = [2, -5, 6, False, 56] ## empty list = []\n",
    "\n",
    "print(list_x)                  ## print the whole list\n",
    "\n",
    "# indexing\n",
    "print(list_x[0])               ## print the first element, 2\n",
    "print(list_x[2])               ## print the third element, 6\n",
    "print(list_x[-3])              ## print the last element, 56"
   ]
  },
  {
   "cell_type": "markdown",
   "metadata": {
    "id": "ivzeEkDVIjmT"
   },
   "source": [
    "## Loops\n",
    "While-loops execute the same lines of code until a condition is broken.\n",
    "For-loops iterate over an object while executing the same lines of code, until the iteration reaches its end.\n",
    "All for-loops may be equivalently written with while-loops."
   ]
  },
  {
   "cell_type": "code",
   "execution_count": 28,
   "metadata": {
    "colab": {
     "base_uri": "https://localhost:8080/"
    },
    "id": "5mwPCL-oIjmT",
    "outputId": "cb0317ba-da7a-45f6-ffc4-4150117609d4"
   },
   "outputs": [
    {
     "name": "stdout",
     "output_type": "stream",
     "text": [
      "---- while loop 1 ----\n",
      "0\n",
      "1\n",
      "2\n",
      "3\n",
      "4\n",
      "---- while loop 2 ----\n",
      "list_x[0] = 2\n",
      "list_x[1] = -5\n",
      "list_x[2] = 6\n",
      "list_x[3] = False\n",
      "list_x[4] = 56\n",
      "---- for loop 1 ----\n",
      "list_x[0] = 2\n",
      "list_x[1] = -5\n",
      "list_x[2] = 6\n",
      "list_x[3] = False\n",
      "list_x[4] = 56\n",
      "---- for loop 2 ----\n",
      "list_x[0] = 2\n",
      "list_x[1] = -5\n",
      "list_x[2] = 6\n"
     ]
    }
   ],
   "source": [
    "# while loop example\n",
    "# initialize the variable\n",
    "\n",
    "print(\"---- while loop 1 ----\")\n",
    "i = 0\n",
    "while i < 5:                     ## implement the inner code as long as the statement is True\n",
    "    print(i)\n",
    "    i = i + 1\n",
    "\n",
    "\n",
    "print(\"---- while loop 2 ----\")\n",
    "i=0\n",
    "while i < len(list_x):           ## len(), the number of elements in total\n",
    "    print(f\"list_x[{i}] = {list_x[i]}\")\n",
    "    i += 1      # equivalent to : i = i + 1\n",
    "    \n",
    "print(\"---- for loop 1 ----\")\n",
    "# equivalent for loop\n",
    "for i in range(len(list_x)):\n",
    "    print(f\"list_x[{i}] = {list_x[i]}\")\n",
    "    \n",
    "print(\"---- for loop 2 ----\")\n",
    "# breaking out of a for loop\n",
    "for i in range(len(list_x)):\n",
    "    if(list_x[i] == False):\n",
    "        break                          ## escape the for loop\n",
    "    print(f\"list_x[{i}] = {list_x[i]}\")"
   ]
  },
  {
   "cell_type": "markdown",
   "metadata": {
    "id": "jaSj0e63IjmZ"
   },
   "source": [
    "## Strings\n",
    "Strings in python are treated as lists of characters. There are a bunch of built-in functions dealing with strings that you should look up. *Extra: ```find()```"
   ]
  },
  {
   "cell_type": "code",
   "execution_count": 41,
   "metadata": {
    "colab": {
     "base_uri": "https://localhost:8080/"
    },
    "id": "OGpzTTF3IjmZ",
    "outputId": "c8713851-180e-415c-8df3-5c2c803cdd4c"
   },
   "outputs": [
    {
     "name": "stdout",
     "output_type": "stream",
     "text": [
      "o\n",
      "llo ev\n"
     ]
    }
   ],
   "source": [
    "this_string = \"hello everyone\"        ## consider it as a list\n",
    "\n",
    "print(this_string[4])                 ## The fifth element is o\n",
    "print(this_string[2:8])               ## Elemtns from the third to the nineth"
   ]
  },
  {
   "cell_type": "markdown",
   "metadata": {
    "id": "f_8Bl2vpIjmc"
   },
   "source": [
    "## Classes\n",
    "So far we've seen the data-types of integers, floats (non-integer numbers), booleans, strings, and characters. Most modern programming languages allow us to basically define our own data-types in the form of **classes**. \n",
    "\n",
    "We instiate instances of our new datatype by callling the class, which automatically calls the init function. These class objects then have values and functions associated with them, that can be accessed by the \"dot\": ```my_object.my_value``` or ```my_object.my_function```. \n",
    "\n",
    "Though you may not need to make a class for this class, it makes life easier when we understand why we're writing code the way we are."
   ]
  },
  {
   "cell_type": "code",
   "execution_count": null,
   "metadata": {
    "id": "5gKykQHkIjmc"
   },
   "outputs": [],
   "source": [
    "class MyClass:                                   ## just a special data type, like def\n",
    "    # init function must be called __init__\n",
    "    def __init__(self, value=0, string=\"...\"):   ## class always needs such __init__ function, \n",
    "        self.my_val = value                      ## always put self in each function, self means the class itself\n",
    "        self.my_str = string\n",
    "        \n",
    "    # all other functions can be called whatever you like\n",
    "    def increment(self, inc=1):\n",
    "        self.my_val += inc\n",
    "    \n",
    "    # all functions of the class need self as a parameter\n",
    "    def printStr(self):\n",
    "        print(self.my_str)\n",
    "        \n",
    "my_object = MyClass(10, \"Hello\")              ## when call the class, it implements __init__ function\n",
    "\n",
    "print(my_object.my_val)\n",
    "print(my_object.my_str)\n",
    "\n",
    "my_object.increment()                         ## call class function\n",
    "print(my_object.my_val)\n",
    "\n",
    "my_object.printStr()"
   ]
  },
  {
   "cell_type": "markdown",
   "metadata": {
    "id": "vf-c0S3RMTmQ"
   },
   "source": [
    "# Lab \n",
    "\n",
    "\n",
    "### Exercise 1\n",
    "Write a function to find the second largest number in a list (Hint: use sort())\n",
    "\n"
   ]
  },
  {
   "cell_type": "code",
   "execution_count": 49,
   "metadata": {
    "id": "Lmm0TmarwYIk"
   },
   "outputs": [],
   "source": [
    "## Your code here\n",
    "def second_largest(ls):\n",
    "  if len(ls) >= 2:\n",
    "    ls.sort()\n",
    "    return ls[-2]\n",
    "  else:\n",
    "    return ls[0]"
   ]
  },
  {
   "cell_type": "markdown",
   "metadata": {
    "id": "Jv7IWGtnCFcC"
   },
   "source": [
    "Your ouput should look as follows:"
   ]
  },
  {
   "cell_type": "code",
   "execution_count": 50,
   "metadata": {
    "colab": {
     "base_uri": "https://localhost:8080/"
    },
    "id": "VYXhbfoVSUUp",
    "outputId": "fb19e3d2-0aef-4b26-8123-5adeeb02e2b4"
   },
   "outputs": [
    {
     "name": "stdout",
     "output_type": "stream",
     "text": [
      "52\n",
      "41\n",
      "23\n",
      "24\n"
     ]
    }
   ],
   "source": [
    "print(second_largest([23, 52, 11, 52, 9, 26, 2, 1, 67]))\n",
    "print(second_largest([12, 45, 2, 41, 31, 10, 8, 6, 4]))\n",
    "print(second_largest([23,23]))\n",
    "print(second_largest([24]))"
   ]
  },
  {
   "cell_type": "markdown",
   "metadata": {
    "id": "ZkM36YiOwYIl"
   },
   "source": [
    "### Exercise 2\n",
    "Write a function to find the factors of a positive number.\n",
    "\n",
    "Hint: Check if the number is positive or negative\n",
    "\n",
    "Hint: Use modulo operator '**%**' to compute the remainder"
   ]
  },
  {
   "cell_type": "code",
   "execution_count": 64,
   "metadata": {
    "id": "IckEMYKmwYIl"
   },
   "outputs": [],
   "source": [
    "## Your code here\n",
    "def get_factor(num):\n",
    "  if num <= 0:\n",
    "    print(\"Not postive number\")\n",
    "    return\n",
    "  else:\n",
    "    half = int(num/2) + 1\n",
    "    factors = []\n",
    "    for i in range(1, half):\n",
    "      if (num % i) == 0:\n",
    "        factors.append(i)\n",
    "    print(factors)"
   ]
  },
  {
   "cell_type": "markdown",
   "metadata": {
    "id": "yMEi0apQwYIm"
   },
   "source": [
    "Your ouput should look as follows:"
   ]
  },
  {
   "cell_type": "code",
   "execution_count": 65,
   "metadata": {
    "colab": {
     "base_uri": "https://localhost:8080/"
    },
    "id": "pcf6gRq_wYIm",
    "outputId": "6535fafb-8cb7-40a7-c644-f0fb02f045c3"
   },
   "outputs": [
    {
     "name": "stdout",
     "output_type": "stream",
     "text": [
      "Not postive number\n",
      "Not postive number\n",
      "[1, 3, 7]\n",
      "[1, 2, 4]\n"
     ]
    }
   ],
   "source": [
    "get_factor(0)\n",
    "\n",
    "get_factor(-12)\n",
    "\n",
    "get_factor(21) \n",
    "           \n",
    "get_factor(8)"
   ]
  },
  {
   "cell_type": "markdown",
   "metadata": {
    "id": "jq1Y6E2ISm_t"
   },
   "source": [
    "### Exercise 3\n",
    "\n",
    "Define a class which has at least two methods:  \n",
    "*   getString: to get a string from console input (Hint: use input())\n",
    "*   printString: to print the string in upper case (Hint: use upper())\n",
    "\n",
    "Test the class methods."
   ]
  },
  {
   "cell_type": "code",
   "execution_count": 77,
   "metadata": {
    "colab": {
     "base_uri": "https://localhost:8080/"
    },
    "id": "-ChTwRezwYIn",
    "outputId": "cd944d02-172d-4952-b88f-ea55b8e2cd0f"
   },
   "outputs": [
    {
     "name": "stdout",
     "output_type": "stream",
     "text": [
      "asdaasd\n",
      "ASDAASD\n"
     ]
    }
   ],
   "source": [
    "## Your code here\n",
    "class MyClass:\n",
    "  def __init__(self):\n",
    "    self.my_string = \"\"\n",
    "  \n",
    "  def getString(self):\n",
    "    self.my_string = input()\n",
    "  \n",
    "  def printString(self):\n",
    "    print(self.my_string.upper())\n",
    "\n",
    "myclass = MyClass()\n",
    "myclass.getString()\n",
    "myclass.printString()\n"
   ]
  }
 ],
 "metadata": {
  "colab": {
   "name": "demo_python_basics.ipynb",
   "provenance": []
  },
  "kernelspec": {
   "display_name": "Python 3",
   "language": "python",
   "name": "python3"
  },
  "language_info": {
   "codemirror_mode": {
    "name": "ipython",
    "version": 3
   },
   "file_extension": ".py",
   "mimetype": "text/x-python",
   "name": "python",
   "nbconvert_exporter": "python",
   "pygments_lexer": "ipython3",
   "version": "3.7.4"
  },
  "latex_envs": {
   "LaTeX_envs_menu_present": true,
   "autoclose": true,
   "autocomplete": true,
   "bibliofile": "biblio.bib",
   "cite_by": "apalike",
   "current_citInitial": 1,
   "eqLabelWithNumbers": true,
   "eqNumInitial": 1,
   "hotkeys": {
    "equation": "Ctrl-E",
    "itemize": "Ctrl-I"
   },
   "labels_anchors": false,
   "latex_user_defs": false,
   "report_style_numbering": false,
   "user_envs_cfg": false
  }
 },
 "nbformat": 4,
 "nbformat_minor": 1
}
