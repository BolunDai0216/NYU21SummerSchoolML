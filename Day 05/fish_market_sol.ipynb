{
  "nbformat": 4,
  "nbformat_minor": 0,
  "metadata": {
    "colab": {
      "name": "fish_market_sol.ipynb",
      "provenance": [],
      "collapsed_sections": []
    },
    "kernelspec": {
      "name": "python3",
      "display_name": "Python 3"
    },
    "language_info": {
      "name": "python"
    }
  },
  "cells": [
    {
      "cell_type": "code",
      "metadata": {
        "id": "ZYfn8wuIIfld"
      },
      "source": [
        "import numpy as np\n",
        "import pandas as pd\n",
        "import matplotlib.pyplot as plt\n",
        "from sklearn.linear_model import LinearRegression, Ridge, Lasso"
      ],
      "execution_count": 1,
      "outputs": []
    },
    {
      "cell_type": "code",
      "metadata": {
        "id": "V4s_W7xuIhxH"
      },
      "source": [
        "feature = pd.read_csv('https://github.com/BolunDai0216/NYU21SummerSchoolML/raw/main/Day%205/fish_market_feature.csv')\n",
        "label = pd.read_csv('https://github.com/BolunDai0216/NYU21SummerSchoolML/raw/main/Day%205/fish_market_label.csv')"
      ],
      "execution_count": 2,
      "outputs": []
    },
    {
      "cell_type": "code",
      "metadata": {
        "id": "wcOBmx9JIjVD"
      },
      "source": [
        "from sklearn.model_selection import train_test_split\n",
        "X = feature.values\n",
        "y = label.values\n",
        "X_train, X_val, y_train, y_val = train_test_split(X, y, test_size=0.01, random_state=0)\n",
        "\n",
        "X_test = pd.read_csv('https://github.com/BolunDai0216/NYU21SummerSchoolML/raw/main/Day%205/fish_market_test_feature.csv').values\n",
        "y_test = pd.read_csv('https://github.com/BolunDai0216/NYU21SummerSchoolML/raw/main/Day%205/fish_market_test_label.csv').values"
      ],
      "execution_count": 3,
      "outputs": []
    },
    {
      "cell_type": "code",
      "metadata": {
        "id": "KjBZx2E0Imek"
      },
      "source": [
        "def print_and_plot(y_pred, y):\n",
        "    MAE = np.mean(np.abs(y_pred - y))\n",
        "    MSE = np.mean((y_pred - y)**2)\n",
        "    print ('The MSE is {:0.2f}'.format(MSE))\n",
        "    print ('The MAE is {:0.2f}'.format(MAE))\n",
        "    plt.figure(figsize=(8,6))\n",
        "    plt.plot(y_pred, 'o', label='predicted')\n",
        "    plt.plot(y, 'o', label='ground truth')\n",
        "    plt.legend(loc='upper left')\n",
        "    plt.grid()\n",
        "    plt.ylabel('Weight')\n",
        "    plt.xlabel('Index of Sample')\n",
        "    plt.show()"
      ],
      "execution_count": 4,
      "outputs": []
    },
    {
      "cell_type": "markdown",
      "metadata": {
        "id": "vhz3mFm9Iwjd"
      },
      "source": [
        "## Ridge linear regression without feature engineering"
      ]
    },
    {
      "cell_type": "code",
      "metadata": {
        "colab": {
          "base_uri": "https://localhost:8080/",
          "height": 423
        },
        "id": "XsGt3njMIpa4",
        "outputId": "34565faf-3c26-4e31-dc9a-713369171939"
      },
      "source": [
        "model = Ridge(alpha=10)\n",
        "model.fit(X_train, y_train)\n",
        "\n",
        "# If a prediction is negative, set it to zero\n",
        "y_hat = np.maximum(model.predict(X_test), 0)\n",
        "print_and_plot(y_hat, y_test)"
      ],
      "execution_count": 5,
      "outputs": [
        {
          "output_type": "stream",
          "text": [
            "The MSE is 6427.56\n",
            "The MAE is 62.12\n"
          ],
          "name": "stdout"
        },
        {
          "output_type": "display_data",
          "data": {
            "image/png": "[encoded data removed]",
            "text/plain": [
              "<Figure size 576x432 with 1 Axes>"
            ]
          },
          "metadata": {
            "tags": [],
            "needs_background": "light"
          }
        }
      ]
    },
    {
      "cell_type": "markdown",
      "metadata": {
        "id": "1h4_onPxIzpR"
      },
      "source": [
        "## With polynomial feature transformation"
      ]
    },
    {
      "cell_type": "code",
      "metadata": {
        "colab": {
          "base_uri": "https://localhost:8080/",
          "height": 423
        },
        "id": "c6FUy7bvIsWJ",
        "outputId": "3c95e6aa-83f5-44e0-cec9-77b7ad011444"
      },
      "source": [
        "def design_matrix(x, M):\n",
        "  phi = np.ones((x.shape[0],1))\n",
        "  for i in range(1,M+1):\n",
        "    phi = np.hstack((phi,x**i))\n",
        "  return phi\n",
        "\n",
        "M= 3\n",
        "\n",
        "PhiX_train = design_matrix(X_train, M)\n",
        "PhiX_test = design_matrix(X_test, M)\n",
        "\n",
        "model = Ridge(1e2, fit_intercept=False)\n",
        "model.fit(PhiX_train, y_train)\n",
        "y_hat = model.predict(PhiX_test)\n",
        "print_and_plot(y_hat, y_test)"
      ],
      "execution_count": 7,
      "outputs": [
        {
          "output_type": "stream",
          "text": [
            "The MSE is 3027.28\n",
            "The MAE is 32.98\n"
          ],
          "name": "stdout"
        },
        {
          "output_type": "display_data",
          "data": {
            "image/png": "[encoded data removed]",
            "text/plain": [
              "<Figure size 576x432 with 1 Axes>"
            ]
          },
          "metadata": {
            "tags": [],
            "needs_background": "light"
          }
        }
      ]
    },
    {
      "cell_type": "code",
      "metadata": {
        "id": "Fdxu9qjOI4bl"
      },
      "source": [
        ""
      ],
      "execution_count": null,
      "outputs": []
    }
  ]
}