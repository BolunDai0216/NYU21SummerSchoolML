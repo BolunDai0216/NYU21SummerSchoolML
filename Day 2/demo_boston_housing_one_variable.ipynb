{
 "cells": [
  {
   "cell_type": "code",
   "execution_count": 1,
   "metadata": {},
   "outputs": [],
   "source": [
    "import pandas as pd\n",
    "import numpy as np"
   ]
  },
  {
   "cell_type": "markdown",
   "metadata": {},
   "source": [
    "## Load data from csv file"
   ]
  },
  {
   "cell_type": "code",
   "execution_count": 2,
   "metadata": {
    "colab": {
     "base_uri": "https://localhost:8080/",
     "height": 54
    },
    "colab_type": "code",
    "id": "7ySvcVJHBHvG",
    "outputId": "981e545b-da9b-4829-d13c-b1c00d1a27f0"
   },
   "outputs": [
    {
     "data": {
      "text/plain": [
       "\"\\nAttribute Information:\\n    1.  CRIM      per capita crime rate by town\\n    2.  ZN        proportion of residential land zoned for lots over \\n                  25,000 sq.ft.\\n    3.  INDUS     proportion of non-retail business acres per town\\n    4.  CHAS      Charles River dummy variable (= 1 if tract bounds \\n                  river; 0 otherwise)\\n    5.  NOX       nitric oxides concentration (parts per 10 million)\\n    6.  RM        average number of rooms per dwelling\\n    7.  AGE       proportion of owner-occupied units built prior to 1940\\n    8.  DIS       weighted distances to five Boston employment centres\\n    9.  RAD       index of accessibility to radial highways\\n    10. TAX       full-value property-tax rate per $10,000\\n    11. PTRATIO   pupil-teacher ratio by town\\n    12. B         1000(Bk - 0.63)^2 where Bk is the proportion of blocks by town\\n    13. LSTAT     % lower status of the population\\n    14. MEDV      Median value of owner-occupied homes in $1000's\\n\""
      ]
     },
     "execution_count": 2,
     "metadata": {},
     "output_type": "execute_result"
    }
   ],
   "source": [
    "names = ['CRIM','ZN','INDUS','CHAS','NOX','RM','AGE','DIS','RAD','TAX','PTRATIO','B','LSTAT','PRICE']\n",
    "df = pd.read_csv('https://archive.ics.uci.edu/ml/machine-learning-databases/housing/housing.data',\n",
    "                header=None, names=names , delim_whitespace = True, na_values='?')\n",
    "\n",
    "\"\"\"\n",
    "Attribute Information:\n",
    "    1.  CRIM      per capita crime rate by town\n",
    "    2.  ZN        proportion of residential land zoned for lots over \n",
    "                  25,000 sq.ft.\n",
    "    3.  INDUS     proportion of non-retail business acres per town\n",
    "    4.  CHAS      Charles River dummy variable (= 1 if tract bounds \n",
    "                  river; 0 otherwise)\n",
    "    5.  NOX       nitric oxides concentration (parts per 10 million)\n",
    "    6.  RM        average number of rooms per dwelling\n",
    "    7.  AGE       proportion of owner-occupied units built prior to 1940\n",
    "    8.  DIS       weighted distances to five Boston employment centres\n",
    "    9.  RAD       index of accessibility to radial highways\n",
    "    10. TAX       full-value property-tax rate per $10,000\n",
    "    11. PTRATIO   pupil-teacher ratio by town\n",
    "    12. B         1000(Bk - 0.63)^2 where Bk is the proportion of blocks by town\n",
    "    13. LSTAT     % lower status of the population\n",
    "    14. MEDV      Median value of owner-occupied homes in $1000's\n",
    "\"\"\"\n",
    "\n"
   ]
  },
  {
   "cell_type": "code",
   "execution_count": 3,
   "metadata": {},
   "outputs": [
    {
     "name": "stdout",
     "output_type": "stream",
     "text": [
      "df is an object of  <class 'pandas.core.frame.DataFrame'>\n",
      "\n",
      "\n",
      "      CRIM    ZN  INDUS  CHAS    NOX     RM   AGE     DIS  RAD    TAX  \\\n",
      "0  0.00632  18.0   2.31     0  0.538  6.575  65.2  4.0900    1  296.0   \n",
      "1  0.02731   0.0   7.07     0  0.469  6.421  78.9  4.9671    2  242.0   \n",
      "2  0.02729   0.0   7.07     0  0.469  7.185  61.1  4.9671    2  242.0   \n",
      "3  0.03237   0.0   2.18     0  0.458  6.998  45.8  6.0622    3  222.0   \n",
      "4  0.06905   0.0   2.18     0  0.458  7.147  54.2  6.0622    3  222.0   \n",
      "\n",
      "   PTRATIO       B  LSTAT  PRICE  \n",
      "0     15.3  396.90   4.98   24.0  \n",
      "1     17.8  396.90   9.14   21.6  \n",
      "2     17.8  392.83   4.03   34.7  \n",
      "3     18.7  394.63   2.94   33.4  \n",
      "4     18.7  396.90   5.33   36.2  \n",
      "(506, 14)\n"
     ]
    }
   ],
   "source": [
    "print ('df is an object of ', type(df))\n",
    "print ('\\n')\n",
    "print(df.head(5))\n",
    "print(df.shape)"
   ]
  },
  {
   "cell_type": "markdown",
   "metadata": {},
   "source": [
    "### Store values in the pandas dataframe as numpy arrays\n",
    "- we want to use the average number of rooms to predict the housing price\n",
    "- we need to extract the data from df and convert them to numpy arrays"
   ]
  },
  {
   "cell_type": "code",
   "execution_count": 4,
   "metadata": {
    "colab": {},
    "colab_type": "code",
    "id": "DnClZNwpEms6"
   },
   "outputs": [
    {
     "name": "stdout",
     "output_type": "stream",
     "text": [
      "both x and y are now objects of <class 'numpy.ndarray'>\n"
     ]
    }
   ],
   "source": [
    "y = df['PRICE'].values\n",
    "x = df['RM'].values\n",
    "print ('both x and y are now objects of', type(x))"
   ]
  },
  {
   "cell_type": "markdown",
   "metadata": {},
   "source": [
    "### Plot the housing price against the average number of rooms"
   ]
  },
  {
   "cell_type": "code",
   "execution_count": 5,
   "metadata": {
    "colab": {
     "base_uri": "https://localhost:8080/",
     "height": 279
    },
    "colab_type": "code",
    "id": "eb1dMMhXFUqx",
    "outputId": "db15243f-a4f4-488b-d361-c07ed62d43e8"
   },
   "outputs": [
    {
     "data": {
      "image/png": "[encoded data removed]",
      "text/plain": [
       "<Figure size 432x288 with 1 Axes>"
      ]
     },
     "metadata": {
      "needs_background": "light"
     },
     "output_type": "display_data"
    }
   ],
   "source": [
    "import matplotlib.pyplot as plt\n",
    "\n",
    "plt.plot(x,y,'o')\n",
    "plt.xlabel('Average Number of Rooms')\n",
    "plt.ylabel('Price')\n",
    "plt.grid()"
   ]
  },
  {
   "cell_type": "markdown",
   "metadata": {
    "colab_type": "text",
    "id": "AgOsOzRXTbIP"
   },
   "source": [
    "# Guess a line to fit the data"
   ]
  },
  {
   "cell_type": "code",
   "execution_count": 6,
   "metadata": {
    "colab": {
     "base_uri": "https://localhost:8080/",
     "height": 279
    },
    "colab_type": "code",
    "id": "luFvmrCzF5Wx",
    "outputId": "314b4b5d-407f-477b-c3a0-01a1a3500621"
   },
   "outputs": [
    {
     "data": {
      "image/png": "[encoded data removed]",
      "text/plain": [
       "<Figure size 432x288 with 1 Axes>"
      ]
     },
     "metadata": {
      "needs_background": "light"
     },
     "output_type": "display_data"
    }
   ],
   "source": [
    "w1 = 9\n",
    "w0 = -30\n",
    "xplt = np.linspace(3,9,100)\n",
    "yplt = w1 * xplt + w0\n",
    "plt.plot(x,y,'o')    # Plot the data points\n",
    "\n",
    "plt.plot(xplt,yplt,'-',linewidth=3)  # Plot the line\n",
    "plt.xlabel('Average number of rooms in a region')\n",
    "plt.ylabel('Price')\n",
    "plt.grid()\n"
   ]
  },
  {
   "cell_type": "markdown",
   "metadata": {
    "colab_type": "text",
    "id": "_k2ftd_WPxu8"
   },
   "source": [
    "## Calculate the Mean Squared Error (MSE) and Mean Absolute Error (MAE) to determine goodness of fit"
   ]
  },
  {
   "cell_type": "markdown",
   "metadata": {},
   "source": [
    "### Reminder :\n",
    "\n",
    "Given :\n",
    "- a dataset : $(x_i, y_i)$, $i = 1, 2, 3, ..., N$\n",
    "- a model : $\\hat{y} = w_1x + w_0$\n",
    "\n",
    "We can compute the following two error functions :\n",
    "- Mean Squared Error: $\\displaystyle MSE = \\frac{1}{N}\\sum_{i=1}^N || y_i - \\hat{y_i}||^2$\n",
    "- Mean Absolute Error: $\\displaystyle MAE = \\frac{1}{N}\\sum_{i=1}^N |y_i - \\hat{y_i}|$"
   ]
  },
  {
   "cell_type": "code",
   "execution_count": 7,
   "metadata": {
    "colab": {
     "base_uri": "https://localhost:8080/",
     "height": 34
    },
    "colab_type": "code",
    "id": "WhvseoAl_Rk-",
    "outputId": "afc0f1a2-6375-453b-96c0-3a6bc8d0a889"
   },
   "outputs": [],
   "source": [
    "## To-do"
   ]
  }
 ],
 "metadata": {
  "colab": {
   "collapsed_sections": [],
   "name": "Boston_Housing_One_Variable.ipynb",
   "provenance": []
  },
  "kernelspec": {
   "display_name": "Python 3",
   "language": "python",
   "name": "python3"
  },
  "language_info": {
   "codemirror_mode": {
    "name": "ipython",
    "version": 3
   },
   "file_extension": ".py",
   "mimetype": "text/x-python",
   "name": "python",
   "nbconvert_exporter": "python",
   "pygments_lexer": "ipython3",
   "version": "3.6.9"
  }
 },
 "nbformat": 4,
 "nbformat_minor": 1
}
