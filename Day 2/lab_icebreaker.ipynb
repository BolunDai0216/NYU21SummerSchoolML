{
 "cells": [
  {
   "cell_type": "code",
   "execution_count": 5,
   "metadata": {
    "colab": {},
    "colab_type": "code",
    "id": "zXL3u543mvYN"
   },
   "outputs": [],
   "source": [
    "import pandas as pd\n",
    "import numpy as np\n",
    "import matplotlib\n",
    "import matplotlib.pyplot as plt"
   ]
  },
  {
   "cell_type": "code",
   "execution_count": 6,
   "metadata": {
    "colab": {},
    "colab_type": "code",
    "id": "W-Tj_d6nnWqw"
   },
   "outputs": [],
   "source": [
    "# dataframe - df\n",
    "df = pd.read_csv('https://github.com/BolunDai0216/NYU21SummerSchoolML/raw/main/Day%202/dataset.csv')\n",
    "df = df.dropna()"
   ]
  },
  {
   "cell_type": "code",
   "execution_count": 7,
   "metadata": {
    "colab": {
     "base_uri": "https://localhost:8080/",
     "height": 359
    },
    "colab_type": "code",
    "id": "meCMHRWTnfZW",
    "outputId": "2eb006d5-a568-4af5-e7f8-c47ea0d383bc"
   },
   "outputs": [
    {
     "data": {
      "text/html": [
       "<div>\n",
       "<style scoped>\n",
       "    .dataframe tbody tr th:only-of-type {\n",
       "        vertical-align: middle;\n",
       "    }\n",
       "\n",
       "    .dataframe tbody tr th {\n",
       "        vertical-align: top;\n",
       "    }\n",
       "\n",
       "    .dataframe thead th {\n",
       "        text-align: right;\n",
       "    }\n",
       "</style>\n",
       "<table border=\"1\" class=\"dataframe\">\n",
       "  <thead>\n",
       "    <tr style=\"text-align: right;\">\n",
       "      <th></th>\n",
       "      <th>Movie</th>\n",
       "      <th>IMDB Rating</th>\n",
       "      <th>Genre</th>\n",
       "    </tr>\n",
       "  </thead>\n",
       "  <tbody>\n",
       "    <tr>\n",
       "      <td>0</td>\n",
       "      <td>Black Widow</td>\n",
       "      <td>6.9</td>\n",
       "      <td>Action</td>\n",
       "    </tr>\n",
       "    <tr>\n",
       "      <td>1</td>\n",
       "      <td>Star wars A New hope</td>\n",
       "      <td>8.0</td>\n",
       "      <td>Adventure</td>\n",
       "    </tr>\n",
       "    <tr>\n",
       "      <td>2</td>\n",
       "      <td>Return of the Jedi</td>\n",
       "      <td>8.3</td>\n",
       "      <td>Sci-fi</td>\n",
       "    </tr>\n",
       "    <tr>\n",
       "      <td>3</td>\n",
       "      <td>Mission Impossible 6</td>\n",
       "      <td>7.7</td>\n",
       "      <td>Action</td>\n",
       "    </tr>\n",
       "    <tr>\n",
       "      <td>4</td>\n",
       "      <td>The Dark Knight</td>\n",
       "      <td>9.0</td>\n",
       "      <td>Action</td>\n",
       "    </tr>\n",
       "    <tr>\n",
       "      <td>5</td>\n",
       "      <td>Revenge of the Sith</td>\n",
       "      <td>7.5</td>\n",
       "      <td>Adventure</td>\n",
       "    </tr>\n",
       "    <tr>\n",
       "      <td>6</td>\n",
       "      <td>Twilight</td>\n",
       "      <td>8.0</td>\n",
       "      <td>Adventure/Drama</td>\n",
       "    </tr>\n",
       "    <tr>\n",
       "      <td>7</td>\n",
       "      <td>Fight Club</td>\n",
       "      <td>8.8</td>\n",
       "      <td>Drama</td>\n",
       "    </tr>\n",
       "    <tr>\n",
       "      <td>8</td>\n",
       "      <td>Star Trek</td>\n",
       "      <td>7.9</td>\n",
       "      <td>Sci-fi</td>\n",
       "    </tr>\n",
       "    <tr>\n",
       "      <td>9</td>\n",
       "      <td>The Conjuring</td>\n",
       "      <td>7.5</td>\n",
       "      <td>Thriller, Horror</td>\n",
       "    </tr>\n",
       "    <tr>\n",
       "      <td>10</td>\n",
       "      <td>The Shawshank Redemption</td>\n",
       "      <td>9.3</td>\n",
       "      <td>Crime/Drama</td>\n",
       "    </tr>\n",
       "    <tr>\n",
       "      <td>11</td>\n",
       "      <td>10 Things I Hate About You</td>\n",
       "      <td>8.0</td>\n",
       "      <td>Thriller, Action</td>\n",
       "    </tr>\n",
       "    <tr>\n",
       "      <td>12</td>\n",
       "      <td>The Dark Knight Rises</td>\n",
       "      <td>8.4</td>\n",
       "      <td>Action</td>\n",
       "    </tr>\n",
       "    <tr>\n",
       "      <td>13</td>\n",
       "      <td>Bahubali: The Beginning</td>\n",
       "      <td>8.0</td>\n",
       "      <td>Action/Drama</td>\n",
       "    </tr>\n",
       "    <tr>\n",
       "      <td>14</td>\n",
       "      <td>Intersteller</td>\n",
       "      <td>8.6</td>\n",
       "      <td>science fiction</td>\n",
       "    </tr>\n",
       "    <tr>\n",
       "      <td>15</td>\n",
       "      <td>Inception</td>\n",
       "      <td>8.8</td>\n",
       "      <td>Sci-Fi/Thriller</td>\n",
       "    </tr>\n",
       "    <tr>\n",
       "      <td>16</td>\n",
       "      <td>The Space Between Us</td>\n",
       "      <td>6.4</td>\n",
       "      <td>Sci-fi</td>\n",
       "    </tr>\n",
       "    <tr>\n",
       "      <td>17</td>\n",
       "      <td>Cruella</td>\n",
       "      <td>7.4</td>\n",
       "      <td>Comedy/Crime</td>\n",
       "    </tr>\n",
       "    <tr>\n",
       "      <td>18</td>\n",
       "      <td>Parasite</td>\n",
       "      <td>8.6</td>\n",
       "      <td>Thriller</td>\n",
       "    </tr>\n",
       "    <tr>\n",
       "      <td>19</td>\n",
       "      <td>Schindler's list</td>\n",
       "      <td>8.9</td>\n",
       "      <td>History</td>\n",
       "    </tr>\n",
       "    <tr>\n",
       "      <td>20</td>\n",
       "      <td>The Lion King (1994)</td>\n",
       "      <td>8.5</td>\n",
       "      <td>Family/Musical</td>\n",
       "    </tr>\n",
       "    <tr>\n",
       "      <td>21</td>\n",
       "      <td>Thor Ragnarok</td>\n",
       "      <td>7.9</td>\n",
       "      <td>Action</td>\n",
       "    </tr>\n",
       "    <tr>\n",
       "      <td>22</td>\n",
       "      <td>Despicable Me</td>\n",
       "      <td>7.6</td>\n",
       "      <td>Comedy/Animation</td>\n",
       "    </tr>\n",
       "    <tr>\n",
       "      <td>23</td>\n",
       "      <td>Infinity War</td>\n",
       "      <td>8.4</td>\n",
       "      <td>Action</td>\n",
       "    </tr>\n",
       "    <tr>\n",
       "      <td>24</td>\n",
       "      <td>Inception</td>\n",
       "      <td>8.8</td>\n",
       "      <td>Sci-Fi</td>\n",
       "    </tr>\n",
       "    <tr>\n",
       "      <td>25</td>\n",
       "      <td>The Martian</td>\n",
       "      <td>8.0</td>\n",
       "      <td>Sci-Fi</td>\n",
       "    </tr>\n",
       "    <tr>\n",
       "      <td>26</td>\n",
       "      <td>Demon slayer Mugen train</td>\n",
       "      <td>8.3</td>\n",
       "      <td>Anime</td>\n",
       "    </tr>\n",
       "    <tr>\n",
       "      <td>27</td>\n",
       "      <td>Harry Potter and the Goblet of Fire</td>\n",
       "      <td>7.7</td>\n",
       "      <td>Adventure/fantasy</td>\n",
       "    </tr>\n",
       "    <tr>\n",
       "      <td>28</td>\n",
       "      <td>Interstellar</td>\n",
       "      <td>8.6</td>\n",
       "      <td>Sci-fi</td>\n",
       "    </tr>\n",
       "  </tbody>\n",
       "</table>\n",
       "</div>"
      ],
      "text/plain": [
       "                                  Movie  IMDB Rating              Genre\n",
       "0                           Black Widow          6.9             Action\n",
       "1                  Star wars A New hope          8.0          Adventure\n",
       "2                    Return of the Jedi          8.3             Sci-fi\n",
       "3                  Mission Impossible 6          7.7             Action\n",
       "4                       The Dark Knight          9.0             Action\n",
       "5                   Revenge of the Sith          7.5          Adventure\n",
       "6                              Twilight          8.0    Adventure/Drama\n",
       "7                            Fight Club          8.8              Drama\n",
       "8                             Star Trek          7.9             Sci-fi\n",
       "9                         The Conjuring          7.5   Thriller, Horror\n",
       "10             The Shawshank Redemption          9.3        Crime/Drama\n",
       "11           10 Things I Hate About You          8.0   Thriller, Action\n",
       "12                The Dark Knight Rises          8.4             Action\n",
       "13              Bahubali: The Beginning          8.0       Action/Drama\n",
       "14                         Intersteller          8.6    science fiction\n",
       "15                           Inception           8.8    Sci-Fi/Thriller\n",
       "16                 The Space Between Us          6.4             Sci-fi\n",
       "17                              Cruella          7.4       Comedy/Crime\n",
       "18                             Parasite          8.6           Thriller\n",
       "19                     Schindler's list          8.9            History\n",
       "20                 The Lion King (1994)          8.5     Family/Musical\n",
       "21                        Thor Ragnarok          7.9             Action\n",
       "22                        Despicable Me          7.6   Comedy/Animation\n",
       "23                         Infinity War          8.4             Action\n",
       "24                            Inception          8.8             Sci-Fi\n",
       "25                          The Martian          8.0             Sci-Fi\n",
       "26             Demon slayer Mugen train          8.3             Anime \n",
       "27  Harry Potter and the Goblet of Fire          7.7  Adventure/fantasy\n",
       "28                         Interstellar          8.6             Sci-fi"
      ]
     },
     "execution_count": 7,
     "metadata": {},
     "output_type": "execute_result"
    }
   ],
   "source": [
    "df.head(31)"
   ]
  },
  {
   "cell_type": "code",
   "execution_count": 4,
   "metadata": {
    "colab": {},
    "colab_type": "code",
    "id": "X7b_tjEknqXy"
   },
   "outputs": [],
   "source": [
    "names = df['Movie'].values\n",
    "score = df['IMDB Rating'].values"
   ]
  },
  {
   "cell_type": "markdown",
   "metadata": {
    "colab_type": "text",
    "id": "xkstl8sJK5jX"
   },
   "source": [
    "### Plot the IMDB scores for all the movies\n",
    "- Use the [plt.scatter() function](https://matplotlib.org/3.2.1/api/_as_gen/matplotlib.pyplot.scatter.html)\n",
    "- x-axis indicates the name of the movies, y-axis shows the score.\n",
    "- do not forget to put on the labels for the axes."
   ]
  },
  {
   "cell_type": "code",
   "execution_count": 4,
   "metadata": {
    "colab": {
     "base_uri": "https://localhost:8080/",
     "height": 488
    },
    "colab_type": "code",
    "id": "EebaW8RPK5jY",
    "outputId": "c0739f97-63ea-4823-daff-0efa321d1aac"
   },
   "outputs": [],
   "source": [
    "## To-do"
   ]
  },
  {
   "cell_type": "markdown",
   "metadata": {
    "colab_type": "text",
    "id": "yIN8mDZ0K5jb"
   },
   "source": [
    "### Plot the number of movies for each genre\n",
    "- Use the [plt.bar() function](https://matplotlib.org/3.2.1/api/_as_gen/matplotlib.pyplot.bar.html)\n",
    "- x-axis indicates the genre, y-axis shows the count for each genre.\n",
    "- do not forget to put on the labels for the axes."
   ]
  },
  {
   "cell_type": "code",
   "execution_count": 3,
   "metadata": {
    "colab": {},
    "colab_type": "code",
    "id": "WYpmipj4K5jb"
   },
   "outputs": [],
   "source": [
    "# To-do"
   ]
  },
  {
   "cell_type": "markdown",
   "metadata": {
    "colab_type": "text",
    "id": "VIanecbER2ra"
   },
   "source": [
    "### Plot the histogram for the IMDB score\n",
    "- Use [plt.hist() function](https://matplotlib.org/api/_as_gen/matplotlib.pyplot.hist.html)\n",
    "- x-axis indicates the score interval, y-axis shows the number of movies within each score interval\n",
    "- make the interval length 0.5\n",
    "- do not forget to put on the labels for the axes."
   ]
  },
  {
   "cell_type": "markdown",
   "metadata": {},
   "source": [
    "- numpy arange() might come in handy!"
   ]
  },
  {
   "cell_type": "code",
   "execution_count": 2,
   "metadata": {
    "colab": {},
    "colab_type": "code",
    "id": "J0WLGlpQS6vg"
   },
   "outputs": [],
   "source": [
    "# To-do"
   ]
  },
  {
   "cell_type": "markdown",
   "metadata": {
    "colab_type": "text",
    "id": "H4J_b57sOg2Z"
   },
   "source": [
    "### Calculate the mean and variance of the IMDB score of the movies\n"
   ]
  },
  {
   "cell_type": "code",
   "execution_count": 1,
   "metadata": {
    "colab": {},
    "colab_type": "code",
    "id": "CY-EKqoUOfP6"
   },
   "outputs": [],
   "source": [
    "# To-do"
   ]
  },
  {
   "cell_type": "code",
   "execution_count": null,
   "metadata": {},
   "outputs": [],
   "source": []
  }
 ],
 "metadata": {
  "colab": {
   "name": "IceBreakerDemo.ipynb",
   "provenance": []
  },
  "kernelspec": {
   "display_name": "Python 3",
   "language": "python",
   "name": "python3"
  },
  "language_info": {
   "codemirror_mode": {
    "name": "ipython",
    "version": 3
   },
   "file_extension": ".py",
   "mimetype": "text/x-python",
   "name": "python",
   "nbconvert_exporter": "python",
   "pygments_lexer": "ipython3",
   "version": "3.7.4"
  },
  "latex_envs": {
   "LaTeX_envs_menu_present": true,
   "autoclose": true,
   "autocomplete": true,
   "bibliofile": "biblio.bib",
   "cite_by": "apalike",
   "current_citInitial": 1,
   "eqLabelWithNumbers": true,
   "eqNumInitial": 1,
   "hotkeys": {
    "equation": "Ctrl-E",
    "itemize": "Ctrl-I"
   },
   "labels_anchors": false,
   "latex_user_defs": false,
   "report_style_numbering": false,
   "user_envs_cfg": false
  }
 },
 "nbformat": 4,
 "nbformat_minor": 1
}
