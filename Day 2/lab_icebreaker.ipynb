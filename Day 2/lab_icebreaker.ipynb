{
 "cells": [
  {
   "cell_type": "code",
   "execution_count": 6,
   "metadata": {
    "colab": {},
    "colab_type": "code",
    "id": "zXL3u543mvYN"
   },
   "outputs": [],
   "source": [
    "import pandas as pd\n",
    "import numpy as np\n",
    "import matplotlib\n",
    "import matplotlib.pyplot as plt"
   ]
  },
  {
   "cell_type": "code",
   "execution_count": 9,
   "metadata": {
    "colab": {},
    "colab_type": "code",
    "id": "W-Tj_d6nnWqw"
   },
   "outputs": [],
   "source": [
    "# dataframe - df\n",
    "df = pd.read_csv('https://github.com/asarmadi/tandon_summer2021_ml/raw/main/day02/dataset.csv')\n",
    "df = df.dropna()"
   ]
  },
  {
   "cell_type": "code",
   "execution_count": 10,
   "metadata": {
    "colab": {
     "base_uri": "https://localhost:8080/",
     "height": 359
    },
    "colab_type": "code",
    "id": "meCMHRWTnfZW",
    "outputId": "2eb006d5-a568-4af5-e7f8-c47ea0d383bc"
   },
   "outputs": [
    {
     "data": {
      "text/html": [
       "<div>\n",
       "<style scoped>\n",
       "    .dataframe tbody tr th:only-of-type {\n",
       "        vertical-align: middle;\n",
       "    }\n",
       "\n",
       "    .dataframe tbody tr th {\n",
       "        vertical-align: top;\n",
       "    }\n",
       "\n",
       "    .dataframe thead th {\n",
       "        text-align: right;\n",
       "    }\n",
       "</style>\n",
       "<table border=\"1\" class=\"dataframe\">\n",
       "  <thead>\n",
       "    <tr style=\"text-align: right;\">\n",
       "      <th></th>\n",
       "      <th>Movie</th>\n",
       "      <th>IMDB Rating</th>\n",
       "      <th>Genre</th>\n",
       "    </tr>\n",
       "  </thead>\n",
       "  <tbody>\n",
       "    <tr>\n",
       "      <td>0</td>\n",
       "      <td>Beautiful Boy</td>\n",
       "      <td>7.3</td>\n",
       "      <td>Drama</td>\n",
       "    </tr>\n",
       "    <tr>\n",
       "      <td>1</td>\n",
       "      <td>The Martian</td>\n",
       "      <td>8.0</td>\n",
       "      <td>Sci Fi/Drama/Adventure</td>\n",
       "    </tr>\n",
       "    <tr>\n",
       "      <td>2</td>\n",
       "      <td>In the Heights</td>\n",
       "      <td>7.5</td>\n",
       "      <td>Drama/Musical</td>\n",
       "    </tr>\n",
       "    <tr>\n",
       "      <td>3</td>\n",
       "      <td>Daddy Day Care</td>\n",
       "      <td>5.6</td>\n",
       "      <td>Comedy</td>\n",
       "    </tr>\n",
       "    <tr>\n",
       "      <td>4</td>\n",
       "      <td>The Dark Knight</td>\n",
       "      <td>9.0</td>\n",
       "      <td>Action/Crime/Drama</td>\n",
       "    </tr>\n",
       "    <tr>\n",
       "      <td>5</td>\n",
       "      <td>Forrest Gump</td>\n",
       "      <td>8.8</td>\n",
       "      <td>Biography</td>\n",
       "    </tr>\n",
       "    <tr>\n",
       "      <td>6</td>\n",
       "      <td>Spirited Away</td>\n",
       "      <td>8.6</td>\n",
       "      <td>Adventure/Fantasy</td>\n",
       "    </tr>\n",
       "    <tr>\n",
       "      <td>7</td>\n",
       "      <td>The Hate you Give</td>\n",
       "      <td>7.5</td>\n",
       "      <td>Drama/Crime</td>\n",
       "    </tr>\n",
       "    <tr>\n",
       "      <td>8</td>\n",
       "      <td>The Dark Knight</td>\n",
       "      <td>9.0</td>\n",
       "      <td>Action/Crime/Drama</td>\n",
       "    </tr>\n",
       "    <tr>\n",
       "      <td>9</td>\n",
       "      <td>Interstellar</td>\n",
       "      <td>8.6</td>\n",
       "      <td>Sci-Fi/Adventure</td>\n",
       "    </tr>\n",
       "    <tr>\n",
       "      <td>10</td>\n",
       "      <td>Scarface</td>\n",
       "      <td>8.3</td>\n",
       "      <td>Drama/Crime</td>\n",
       "    </tr>\n",
       "    <tr>\n",
       "      <td>11</td>\n",
       "      <td>The Greatest Showman</td>\n",
       "      <td>7.6</td>\n",
       "      <td>Biography/Musical</td>\n",
       "    </tr>\n",
       "    <tr>\n",
       "      <td>12</td>\n",
       "      <td>Chef</td>\n",
       "      <td>7.3</td>\n",
       "      <td>Comedy</td>\n",
       "    </tr>\n",
       "    <tr>\n",
       "      <td>13</td>\n",
       "      <td>Up</td>\n",
       "      <td>8.2</td>\n",
       "      <td>Comedy/Adventure</td>\n",
       "    </tr>\n",
       "    <tr>\n",
       "      <td>14</td>\n",
       "      <td>I Want to Eat Your Pancreas</td>\n",
       "      <td>8.0</td>\n",
       "      <td>Drama</td>\n",
       "    </tr>\n",
       "    <tr>\n",
       "      <td>15</td>\n",
       "      <td>The Dark Knight</td>\n",
       "      <td>9.0</td>\n",
       "      <td>Action/Crime/Drama</td>\n",
       "    </tr>\n",
       "    <tr>\n",
       "      <td>16</td>\n",
       "      <td>The Shawshank Redemption</td>\n",
       "      <td>9.3</td>\n",
       "      <td>Drama</td>\n",
       "    </tr>\n",
       "    <tr>\n",
       "      <td>17</td>\n",
       "      <td>Who Am I: No System Is Safe</td>\n",
       "      <td>7.5</td>\n",
       "      <td>Crime/Drama/Mystery</td>\n",
       "    </tr>\n",
       "    <tr>\n",
       "      <td>18</td>\n",
       "      <td>A Silent Voice</td>\n",
       "      <td>8.2</td>\n",
       "      <td>Drama/Romance</td>\n",
       "    </tr>\n",
       "    <tr>\n",
       "      <td>19</td>\n",
       "      <td>Downton Abbey</td>\n",
       "      <td>7.4</td>\n",
       "      <td>Drama/Romance</td>\n",
       "    </tr>\n",
       "    <tr>\n",
       "      <td>20</td>\n",
       "      <td>The Martian</td>\n",
       "      <td>8.5</td>\n",
       "      <td>Science Fiction</td>\n",
       "    </tr>\n",
       "    <tr>\n",
       "      <td>21</td>\n",
       "      <td>Your Name</td>\n",
       "      <td>8.4</td>\n",
       "      <td>Fantasy / Romance</td>\n",
       "    </tr>\n",
       "    <tr>\n",
       "      <td>22</td>\n",
       "      <td>The Dark Knight</td>\n",
       "      <td>9.0</td>\n",
       "      <td>Action/Crime/Drama</td>\n",
       "    </tr>\n",
       "    <tr>\n",
       "      <td>23</td>\n",
       "      <td>Shutter Island</td>\n",
       "      <td>8.2</td>\n",
       "      <td>mystery / Thriller</td>\n",
       "    </tr>\n",
       "    <tr>\n",
       "      <td>24</td>\n",
       "      <td>The Hate You Give</td>\n",
       "      <td>7.5</td>\n",
       "      <td>Drama</td>\n",
       "    </tr>\n",
       "  </tbody>\n",
       "</table>\n",
       "</div>"
      ],
      "text/plain": [
       "                          Movie  IMDB Rating                   Genre\n",
       "0                 Beautiful Boy          7.3                   Drama\n",
       "1                   The Martian          8.0  Sci Fi/Drama/Adventure\n",
       "2                In the Heights          7.5           Drama/Musical\n",
       "3                Daddy Day Care          5.6                  Comedy\n",
       "4               The Dark Knight          9.0      Action/Crime/Drama\n",
       "5                  Forrest Gump          8.8               Biography\n",
       "6                 Spirited Away          8.6       Adventure/Fantasy\n",
       "7             The Hate you Give          7.5             Drama/Crime\n",
       "8               The Dark Knight          9.0      Action/Crime/Drama\n",
       "9                  Interstellar          8.6        Sci-Fi/Adventure\n",
       "10                     Scarface          8.3             Drama/Crime\n",
       "11         The Greatest Showman          7.6       Biography/Musical\n",
       "12                         Chef          7.3                  Comedy\n",
       "13                           Up          8.2        Comedy/Adventure\n",
       "14  I Want to Eat Your Pancreas          8.0                   Drama\n",
       "15              The Dark Knight          9.0      Action/Crime/Drama\n",
       "16     The Shawshank Redemption          9.3                   Drama\n",
       "17  Who Am I: No System Is Safe          7.5     Crime/Drama/Mystery\n",
       "18               A Silent Voice          8.2           Drama/Romance\n",
       "19                Downton Abbey          7.4           Drama/Romance\n",
       "20                  The Martian          8.5         Science Fiction\n",
       "21                    Your Name          8.4       Fantasy / Romance\n",
       "22              The Dark Knight          9.0      Action/Crime/Drama\n",
       "23               Shutter Island          8.2      mystery / Thriller\n",
       "24            The Hate You Give          7.5                   Drama"
      ]
     },
     "execution_count": 10,
     "metadata": {},
     "output_type": "execute_result"
    }
   ],
   "source": [
    "df.head(31)"
   ]
  },
  {
   "cell_type": "code",
   "execution_count": 12,
   "metadata": {
    "colab": {},
    "colab_type": "code",
    "id": "X7b_tjEknqXy"
   },
   "outputs": [],
   "source": [
    "names = df['Movie'].values\n",
    "score = df['IMDB Rating'].values"
   ]
  },
  {
   "cell_type": "markdown",
   "metadata": {
    "colab_type": "text",
    "id": "xkstl8sJK5jX"
   },
   "source": [
    "### Plot the IMDB scores for all the movies\n",
    "- Use the [plt.scatter() function](https://matplotlib.org/3.2.1/api/_as_gen/matplotlib.pyplot.scatter.html)\n",
    "- x-axis indicates the name of the movies, y-axis shows the score.\n",
    "- do not forget to put on the labels for the axes."
   ]
  },
  {
   "cell_type": "code",
   "execution_count": 4,
   "metadata": {
    "colab": {
     "base_uri": "https://localhost:8080/",
     "height": 488
    },
    "colab_type": "code",
    "id": "EebaW8RPK5jY",
    "outputId": "c0739f97-63ea-4823-daff-0efa321d1aac"
   },
   "outputs": [],
   "source": [
    "## To-do"
   ]
  },
  {
   "cell_type": "markdown",
   "metadata": {
    "colab_type": "text",
    "id": "yIN8mDZ0K5jb"
   },
   "source": [
    "### Plot the number of movies for each genre\n",
    "- Use the [plt.bar() function](https://matplotlib.org/3.2.1/api/_as_gen/matplotlib.pyplot.bar.html)\n",
    "- x-axis indicates the genre, y-axis shows the count for each genre.\n",
    "- do not forget to put on the labels for the axes."
   ]
  },
  {
   "cell_type": "code",
   "execution_count": 3,
   "metadata": {
    "colab": {},
    "colab_type": "code",
    "id": "WYpmipj4K5jb"
   },
   "outputs": [],
   "source": [
    "# To-do"
   ]
  },
  {
   "cell_type": "markdown",
   "metadata": {
    "colab_type": "text",
    "id": "VIanecbER2ra"
   },
   "source": [
    "### Plot the histogram for the IMDB score\n",
    "- Use [plt.hist() function](https://matplotlib.org/api/_as_gen/matplotlib.pyplot.hist.html)\n",
    "- x-axis indicates the score interval, y-axis shows the number of movies within each score interval\n",
    "- make the interval length 0.5\n",
    "- do not forget to put on the labels for the axes."
   ]
  },
  {
   "cell_type": "markdown",
   "metadata": {},
   "source": [
    "- numpy arange() might come in handy!"
   ]
  },
  {
   "cell_type": "code",
   "execution_count": 2,
   "metadata": {
    "colab": {},
    "colab_type": "code",
    "id": "J0WLGlpQS6vg"
   },
   "outputs": [],
   "source": [
    "# To-do"
   ]
  },
  {
   "cell_type": "markdown",
   "metadata": {
    "colab_type": "text",
    "id": "H4J_b57sOg2Z"
   },
   "source": [
    "### Calculate the mean and variance of the IMDB score of the movies\n"
   ]
  },
  {
   "cell_type": "code",
   "execution_count": 1,
   "metadata": {
    "colab": {},
    "colab_type": "code",
    "id": "CY-EKqoUOfP6"
   },
   "outputs": [],
   "source": [
    "# To-do"
   ]
  },
  {
   "cell_type": "code",
   "execution_count": null,
   "metadata": {},
   "outputs": [],
   "source": []
  }
 ],
 "metadata": {
  "colab": {
   "name": "IceBreakerDemo.ipynb",
   "provenance": []
  },
  "kernelspec": {
   "display_name": "Python 3",
   "language": "python",
   "name": "python3"
  },
  "language_info": {
   "codemirror_mode": {
    "name": "ipython",
    "version": 3
   },
   "file_extension": ".py",
   "mimetype": "text/x-python",
   "name": "python",
   "nbconvert_exporter": "python",
   "pygments_lexer": "ipython3",
   "version": "3.7.4"
  },
  "latex_envs": {
   "LaTeX_envs_menu_present": true,
   "autoclose": true,
   "autocomplete": true,
   "bibliofile": "biblio.bib",
   "cite_by": "apalike",
   "current_citInitial": 1,
   "eqLabelWithNumbers": true,
   "eqNumInitial": 1,
   "hotkeys": {
    "equation": "Ctrl-E",
    "itemize": "Ctrl-I"
   },
   "labels_anchors": false,
   "latex_user_defs": false,
   "report_style_numbering": false,
   "user_envs_cfg": false
  }
 },
 "nbformat": 4,
 "nbformat_minor": 1
}
