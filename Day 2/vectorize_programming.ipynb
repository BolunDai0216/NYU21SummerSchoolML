{
 "cells": [
  {
   "cell_type": "code",
   "execution_count": 1,
   "metadata": {},
   "outputs": [],
   "source": [
    "import numpy as np\n",
    "import time"
   ]
  },
  {
   "cell_type": "markdown",
   "metadata": {},
   "source": [
    "## Find the sum of a list of numbers\n",
    "- Use a for loop\n",
    "- Use np.sum()"
   ]
  },
  {
   "cell_type": "code",
   "execution_count": 2,
   "metadata": {},
   "outputs": [
    {
     "name": "stdout",
     "output_type": "stream",
     "text": [
      "Using a for loop it took 0.0063610076904296875s\n",
      "Using np.sum() it took 0.0005049705505371094s\n",
      "np.sum() is 12.596789423984891 times faster\n"
     ]
    }
   ],
   "source": [
    "list_of_nums = np.ones(100000)\n",
    "\n",
    "# For loop\n",
    "tic = time.time()\n",
    "sum_val = 0\n",
    "\n",
    "for i in range(10000):\n",
    "    sum_val += list_of_nums[i]\n",
    "    \n",
    "toc = time.time()\n",
    "for_loop_time = toc - tic\n",
    "print('Using a for loop it took {}s'.format(for_loop_time))\n",
    "\n",
    "# Using numpy.sum()\n",
    "tic = time.time()\n",
    "sum_val = np.sum(list_of_nums)\n",
    "toc = time.time()\n",
    "\n",
    "np_sum_time = toc - tic\n",
    "print('Using np.sum() it took {}s'.format(np_sum_time))\n",
    "\n",
    "print('np.sum() is {} times faster'.format(for_loop_time/np_sum_time))"
   ]
  },
  {
   "cell_type": "markdown",
   "metadata": {},
   "source": [
    "## Find the maximum value in an array\n",
    "- Use a for loop\n",
    "- Use np.amax()"
   ]
  },
  {
   "cell_type": "code",
   "execution_count": 3,
   "metadata": {},
   "outputs": [
    {
     "data": {
      "text/plain": [
       "array([1798, 5196,  473, ..., 4437, 3521, 9329])"
      ]
     },
     "execution_count": 3,
     "metadata": {},
     "output_type": "execute_result"
    }
   ],
   "source": [
    "list_of_nums = np.arange(10000)\n",
    "np.random.shuffle(list_of_nums)\n",
    "list_of_nums"
   ]
  },
  {
   "cell_type": "code",
   "execution_count": 4,
   "metadata": {},
   "outputs": [
    {
     "name": "stdout",
     "output_type": "stream",
     "text": [
      "Using a for loop it took 0.005175113677978516s and the maximum value is 9999\n",
      "Using np.sum() it took 0.0003819465637207031s and the maximum value is 9999\n",
      "np.amax() is 13.549313358302122 times faster\n"
     ]
    }
   ],
   "source": [
    "# For loop\n",
    "tic = time.time()\n",
    "max_val = -1\n",
    "\n",
    "for i in range(10000):\n",
    "    if list_of_nums[i] > max_val:\n",
    "        max_val = list_of_nums[i]\n",
    "        \n",
    "toc = time.time()\n",
    "for_loop_time = toc - tic\n",
    "print('Using a for loop it took {}s and the maximum value is {}'.format(for_loop_time, max_val))\n",
    "\n",
    "# Using numpy.amax()\n",
    "tic = time.time()\n",
    "max_val = np.amax(list_of_nums)\n",
    "toc = time.time()\n",
    "\n",
    "np_sum_time = toc - tic\n",
    "\n",
    "print('Using np.sum() it took {}s and the maximum value is {}'.format(np_sum_time, max_val))\n",
    "\n",
    "print('np.amax() is {} times faster'.format(for_loop_time/np_sum_time))"
   ]
  },
  {
   "cell_type": "markdown",
   "metadata": {},
   "source": [
    "## Add two vectors\n",
    "- Use a for loop\n",
    "- directly add two vectors"
   ]
  },
  {
   "cell_type": "code",
   "execution_count": 5,
   "metadata": {},
   "outputs": [
    {
     "name": "stdout",
     "output_type": "stream",
     "text": [
      "Using a for loop it took 0.010024070739746094s\n",
      "Using np.sum() it took 0.00017523765563964844s\n",
      "Vectorize adding is 57.202721088435375 times faster\n"
     ]
    }
   ],
   "source": [
    "list_of_nums1 = np.arange(10000)\n",
    "list_of_nums2 = np.arange(10000)\n",
    "\n",
    "# For loop\n",
    "tic = time.time()\n",
    "sol = np.empty((10000, 1))\n",
    "\n",
    "for i in range(10000):\n",
    "    sol[i] = list_of_nums1[i] + list_of_nums2[i]\n",
    "    \n",
    "toc = time.time()\n",
    "\n",
    "for_loop_time = toc - tic\n",
    "print('Using a for loop it took {}s'.format(for_loop_time))\n",
    "\n",
    "# Vectorize adding\n",
    "tic = time.time()\n",
    "sol = list_of_nums1 + list_of_nums2\n",
    "toc = time.time()\n",
    "\n",
    "vec_time = toc - tic\n",
    "print('Using np.sum() it took {}s'.format(vec_time))\n",
    "\n",
    "print('Vectorize adding is {} times faster'.format(for_loop_time/vec_time))"
   ]
  },
  {
   "cell_type": "code",
   "execution_count": null,
   "metadata": {},
   "outputs": [],
   "source": []
  }
 ],
 "metadata": {
  "kernelspec": {
   "display_name": "Python 3.7.0 64-bit",
   "language": "python",
   "name": "python37064bitb57ad9dcab5a49b79249ff859c8b8966"
  },
  "language_info": {
   "codemirror_mode": {
    "name": "ipython",
    "version": 3
   },
   "file_extension": ".py",
   "mimetype": "text/x-python",
   "name": "python",
   "nbconvert_exporter": "python",
   "pygments_lexer": "ipython3",
   "version": "3.7.0"
  },
  "latex_envs": {
   "LaTeX_envs_menu_present": true,
   "autoclose": true,
   "autocomplete": true,
   "bibliofile": "biblio.bib",
   "cite_by": "apalike",
   "current_citInitial": 1,
   "eqLabelWithNumbers": true,
   "eqNumInitial": 1,
   "hotkeys": {
    "equation": "Ctrl-E",
    "itemize": "Ctrl-I"
   },
   "labels_anchors": false,
   "latex_user_defs": false,
   "report_style_numbering": false,
   "user_envs_cfg": false
  }
 },
 "nbformat": 4,
 "nbformat_minor": 2
}
