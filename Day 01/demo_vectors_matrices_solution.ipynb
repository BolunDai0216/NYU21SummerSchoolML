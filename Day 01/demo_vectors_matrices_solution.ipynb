{
  "nbformat": 4,
  "nbformat_minor": 0,
  "metadata": {
    "colab": {
      "name": "demo_vectors_matrices.ipynb",
      "provenance": []
    },
    "kernelspec": {
      "display_name": "Python 3",
      "language": "python",
      "name": "python3"
    },
    "language_info": {
      "codemirror_mode": {
        "name": "ipython",
        "version": 3
      },
      "file_extension": ".py",
      "mimetype": "text/x-python",
      "name": "python",
      "nbconvert_exporter": "python",
      "pygments_lexer": "ipython3",
      "version": "3.7.0"
    },
    "latex_envs": {
      "LaTeX_envs_menu_present": true,
      "autoclose": true,
      "autocomplete": true,
      "bibliofile": "biblio.bib",
      "cite_by": "apalike",
      "current_citInitial": 1,
      "eqLabelWithNumbers": true,
      "eqNumInitial": 1,
      "hotkeys": {
        "equation": "Ctrl-E",
        "itemize": "Ctrl-I"
      },
      "labels_anchors": false,
      "latex_user_defs": false,
      "report_style_numbering": false,
      "user_envs_cfg": false
    }
  },
  "cells": [
    {
      "cell_type": "markdown",
      "metadata": {
        "id": "3d768K37k4Th"
      },
      "source": [
        "# Vectors and Matrices\n",
        "## In NumPy"
      ]
    },
    {
      "cell_type": "markdown",
      "metadata": {
        "id": "ykbMIef0lVP4"
      },
      "source": [
        "- Add two Python list together does not do vector addition..."
      ]
    },
    {
      "cell_type": "code",
      "metadata": {
        "colab": {
          "base_uri": "https://localhost:8080/"
        },
        "id": "V-mDUGZznueI",
        "outputId": "92b77d87-95ea-43f4-fe92-7663f3433025"
      },
      "source": [
        "u = [1,5,2,9] \n",
        "v = [3,6,0,-5]\n",
        "print(\"v + u = \", v + u)"
      ],
      "execution_count": 2,
      "outputs": [
        {
          "output_type": "stream",
          "text": [
            "v + u =  [3, 6, 0, -5, 1, 5, 2, 9]\n"
          ],
          "name": "stdout"
        }
      ]
    },
    {
      "cell_type": "markdown",
      "metadata": {
        "id": "gVUUa1xOk4Tn"
      },
      "source": [
        "- Fortunately, people have provided open-source packages for linear algebra operations in Python"
      ]
    },
    {
      "cell_type": "code",
      "metadata": {
        "id": "Uy7T_75KoFuc"
      },
      "source": [
        "import numpy as np"
      ],
      "execution_count": 3,
      "outputs": []
    },
    {
      "cell_type": "markdown",
      "metadata": {
        "id": "6ZEPCF7Hk4Tq"
      },
      "source": [
        "## Vectors"
      ]
    },
    {
      "cell_type": "code",
      "metadata": {
        "colab": {
          "base_uri": "https://localhost:8080/"
        },
        "id": "WJnQAOAJk4Tr",
        "outputId": "a400f924-8d52-49cd-b449-a394120ee67c"
      },
      "source": [
        "v = np.array([1,5,2,9])\n",
        "u = np.array([3,6,0,-5])\n",
        "\n",
        "# vector addition\n",
        "print(\"v+u = \", v+u)\n",
        "\n",
        "# vector scaling\n",
        "print(\"3v = \", 3*v)\n",
        "\n",
        "# Dot-Product\n",
        "print(\"u dot v = \", np.dot(u,v))\n",
        "print('Or u dot v = ', u.dot(v))\n",
        "\n",
        "# Length / L2 Norm of a vector\n",
        "print(\"sqrt(v dot v) = %.2f\" % np.sqrt(np.dot(v,v)))\n",
        "print(\"||v|| = %.2f\" % np.linalg.norm(v))"
      ],
      "execution_count": 4,
      "outputs": [
        {
          "output_type": "stream",
          "text": [
            "v+u =  [ 4 11  2  4]\n",
            "3v =  [ 3 15  6 27]\n",
            "u dot v =  -12\n",
            "Or u dot v =  -12\n",
            "sqrt(v dot v) = 10.54\n",
            "||v|| = 10.54\n"
          ],
          "name": "stdout"
        }
      ]
    },
    {
      "cell_type": "markdown",
      "metadata": {
        "id": "ULJ0MNmkk4Tu"
      },
      "source": [
        "## Matrices"
      ]
    },
    {
      "cell_type": "code",
      "metadata": {
        "colab": {
          "base_uri": "https://localhost:8080/"
        },
        "id": "f-o8cWNck4Tv",
        "outputId": "271b67a3-5e00-4699-d276-371c891103fd"
      },
      "source": [
        "M = np.array([ [1,9,-12], [15, -2, 0] ])\n",
        "print(\"M = \", M.shape)\n",
        "print(M)\n",
        "\n",
        "# matrix addition\n",
        "A = np.array([ [1, 1], [2, 1] ])\n",
        "B = np.array([ [0, 8], [7, 11] ])\n",
        "print(\"A+B = \\n\", A+B) # '\\n' is the newline character\n",
        "\n",
        "# matrix scaling\n",
        "a = 5\n",
        "print(\"aB = \\n\", a*B)"
      ],
      "execution_count": 5,
      "outputs": [
        {
          "output_type": "stream",
          "text": [
            "M =  (2, 3)\n",
            "[[  1   9 -12]\n",
            " [ 15  -2   0]]\n",
            "A+B = \n",
            " [[ 1  9]\n",
            " [ 9 12]]\n",
            "aB = \n",
            " [[ 0 40]\n",
            " [35 55]]\n"
          ],
          "name": "stdout"
        }
      ]
    },
    {
      "cell_type": "markdown",
      "metadata": {
        "id": "VvKPUxQAk4Tx"
      },
      "source": [
        "## More about Matrices"
      ]
    },
    {
      "cell_type": "code",
      "metadata": {
        "colab": {
          "base_uri": "https://localhost:8080/"
        },
        "id": "0lMpTVk8k4Ty",
        "outputId": "b478394a-bf16-450c-fc00-f3273a4cc79b"
      },
      "source": [
        "# matrix multiplicaiton\n",
        "print(\"shapes of A and M:\", A.shape, M.shape)\n",
        "C1 = np.matmul(A, M)\n",
        "C2 = A.dot(M)\n",
        "C3 = A@M\n",
        "print(\"C1 = \\n\", C1)\n",
        "print(\"C2 = \\n\", C2)\n",
        "print(\"C3 = \\n\", C3)\n",
        "\n",
        "# matrix transpose\n",
        "print(\"M^T = \\n\", np.transpose(M))\n",
        "print(\"M^T = \\n\", M.transpose())\n",
        "\n",
        "\n",
        "# matrix inverse\n",
        "print(\"A^-1 = \\n\", np.linalg.inv(A))"
      ],
      "execution_count": 6,
      "outputs": [
        {
          "output_type": "stream",
          "text": [
            "shapes of A and M: (2, 2) (2, 3)\n",
            "C1 = \n",
            " [[ 16   7 -12]\n",
            " [ 17  16 -24]]\n",
            "C2 = \n",
            " [[ 16   7 -12]\n",
            " [ 17  16 -24]]\n",
            "C3 = \n",
            " [[ 16   7 -12]\n",
            " [ 17  16 -24]]\n",
            "M^T = \n",
            " [[  1  15]\n",
            " [  9  -2]\n",
            " [-12   0]]\n",
            "M^T = \n",
            " [[  1  15]\n",
            " [  9  -2]\n",
            " [-12   0]]\n",
            "A^-1 = \n",
            " [[-1.  1.]\n",
            " [ 2. -1.]]\n"
          ],
          "name": "stdout"
        }
      ]
    },
    {
      "cell_type": "markdown",
      "metadata": {
        "id": "5LnHpZF2k4T0"
      },
      "source": [
        "## Vectors and Matrices"
      ]
    },
    {
      "cell_type": "code",
      "metadata": {
        "colab": {
          "base_uri": "https://localhost:8080/"
        },
        "id": "9bU1KEexk4T0",
        "outputId": "2521f2a8-15dd-4420-b5d2-36048da45c4a"
      },
      "source": [
        "v = np.array([1,5,2,9])\n",
        "\n",
        "# v\n",
        "print(\"v\", v.shape, \" = \", v)\n",
        "\n",
        "# row vector v\n",
        "v = v.reshape(1,-1) # shape -1 in np.reshape means value is infered\n",
        "print(\"row vector v\", v.shape, \" = \",  v) \n",
        "\n",
        "# column vector v\n",
        "v = v.reshape(-1,1)\n",
        "print(\"col vector v\", v.shape, \" = \\n\",  v) \n",
        "\n",
        "# matrix vector multiplication\n",
        "A = np.array([[2,0],[0,1],[1,1]])\n",
        "u = np.array([1,2])\n",
        "print(\"u\", u.shape, \" = \\n\", u)\n",
        "print(\"A\", A.shape, \" = \\n\", A)\n",
        "\n",
        "print(\"Au = \\n\", A.dot(u))\n",
        "\n",
        "u = u.reshape(-1,1)\n",
        "print(\"u\", u.shape, \" = \\n\", u)\n",
        "print(\"Au = \\n\", A.dot(u))\n",
        "\n",
        "\n",
        "# inner product as matrix multiplication\n",
        "vdotv = np.matmul(np.transpose(v), v)\n",
        "print(\"v dot v =\", vdotv)\n",
        "print(\"shape of vdotv\", vdotv.shape)"
      ],
      "execution_count": 7,
      "outputs": [
        {
          "output_type": "stream",
          "text": [
            "v (4,)  =  [1 5 2 9]\n",
            "row vector v (1, 4)  =  [[1 5 2 9]]\n",
            "col vector v (4, 1)  = \n",
            " [[1]\n",
            " [5]\n",
            " [2]\n",
            " [9]]\n",
            "u (2,)  = \n",
            " [1 2]\n",
            "A (3, 2)  = \n",
            " [[2 0]\n",
            " [0 1]\n",
            " [1 1]]\n",
            "Au = \n",
            " [2 2 3]\n",
            "u (2, 1)  = \n",
            " [[1]\n",
            " [2]]\n",
            "Au = \n",
            " [[2]\n",
            " [2]\n",
            " [3]]\n",
            "v dot v = [[111]]\n",
            "shape of vdotv (1, 1)\n"
          ],
          "name": "stdout"
        }
      ]
    },
    {
      "cell_type": "markdown",
      "metadata": {
        "id": "ZvdTCz-GqBMs"
      },
      "source": [
        "## Calculate the exercises done in the morning, compare the results!"
      ]
    },
    {
      "cell_type": "markdown",
      "metadata": {
        "id": "ukuyr4GaxuY1"
      },
      "source": [
        "$X =\\begin{bmatrix}\n",
        "        1 & 2 & -1 \\\\ 1 & 0 & 1 \\\\\n",
        "        \\end{bmatrix}$ $Y =\\begin{bmatrix}\n",
        "        3 & 1 \\\\ 0 & -1 \\\\ -2 & 3\n",
        "        \\end{bmatrix}$ $Z = \\begin{bmatrix}1\\\\4\\\\6\\end{bmatrix}$ $A = \\begin{bmatrix}\n",
        "        1 & 2\\\\\n",
        "        3 & 5\n",
        "        \\end{bmatrix}$ $ b= \\begin{bmatrix}\n",
        "        5 \\\\\n",
        "        13\n",
        "        \\end{bmatrix}$\n",
        "\n",
        "\n",
        "Calculate $XY$,  $YX$, $Z^TY$ and $A^{-1}b$"
      ]
    },
    {
      "cell_type": "code",
      "metadata": {
        "colab": {
          "base_uri": "https://localhost:8080/"
        },
        "id": "VQ2ZVtKbnij9",
        "outputId": "3c06c6f0-e1ba-4369-8197-a57bf7f7bf3d"
      },
      "source": [
        "## To do\n",
        "X = np.array([[1,2,-1], [1,0,1]])\n",
        "print(X.shape)\n",
        "Y = np.array([[3,1],[0,-1], [-2,3]])\n",
        "print(Y.shape)\n",
        "Z = np.array([1,4,6])\n",
        "A = np.array([[1,2], [3,5]])\n",
        "b = np.array([5,13])\n",
        "\n",
        "print('---')\n",
        "print(np.matmul(X,Y))\n",
        "print('---')\n",
        "print(np.matmul(Y,X))\n",
        "print('---')\n",
        "print(np.matmul(np.transpose(Z), Y))\n",
        "print('---')\n",
        "print(np.linalg.inv(A).dot(b))"
      ],
      "execution_count": 18,
      "outputs": [
        {
          "output_type": "stream",
          "text": [
            "(2, 3)\n",
            "(3, 2)\n",
            "---\n",
            "[[ 5 -4]\n",
            " [ 1  4]]\n",
            "---\n",
            "[[ 4  6 -2]\n",
            " [-1  0 -1]\n",
            " [ 1 -4  5]]\n",
            "---\n",
            "[-9 15]\n",
            "---\n",
            "[1. 2.]\n"
          ],
          "name": "stdout"
        }
      ]
    },
    {
      "cell_type": "code",
      "metadata": {
        "id": "hKGaXRy6Fm4o"
      },
      "source": [
        ""
      ],
      "execution_count": null,
      "outputs": []
    }
  ]
}