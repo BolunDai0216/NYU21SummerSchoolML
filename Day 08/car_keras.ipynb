{
  "nbformat": 4,
  "nbformat_minor": 0,
  "metadata": {
    "accelerator": "GPU",
    "colab": {
      "name": "car_keras.ipynb",
      "provenance": [],
      "collapsed_sections": []
    },
    "kernelspec": {
      "display_name": "Python 3",
      "language": "python",
      "name": "python3"
    },
    "language_info": {
      "codemirror_mode": {
        "name": "ipython",
        "version": 3
      },
      "file_extension": ".py",
      "mimetype": "text/x-python",
      "name": "python",
      "nbconvert_exporter": "python",
      "pygments_lexer": "ipython3",
      "version": "3.7.0"
    },
    "latex_envs": {
      "LaTeX_envs_menu_present": true,
      "autoclose": true,
      "autocomplete": true,
      "bibliofile": "biblio.bib",
      "cite_by": "apalike",
      "current_citInitial": 1,
      "eqLabelWithNumbers": true,
      "eqNumInitial": 1,
      "hotkeys": {
        "equation": "Ctrl-E",
        "itemize": "Ctrl-I"
      },
      "labels_anchors": false,
      "latex_user_defs": false,
      "report_style_numbering": false,
      "user_envs_cfg": false
    }
  },
  "cells": [
    {
      "cell_type": "code",
      "metadata": {
        "id": "NTwNZcxOOU6W"
      },
      "source": [
        "import tensorflow as tf\n",
        "from tensorflow.keras.preprocessing.image import ImageDataGenerator\n",
        "from tensorflow.keras.applications import ResNet50\n",
        "import os\n",
        "import tarfile\n",
        "import scipy.io as sio\n",
        "import numpy as np\n",
        "import random\n",
        "import cv2"
      ],
      "execution_count": null,
      "outputs": []
    },
    {
      "cell_type": "code",
      "metadata": {
        "id": "QC3espG8Ddmx"
      },
      "source": [
        "def save_train_data(fnames, labels, bboxes):\n",
        "    src_folder ='/tmp/car_ims'\n",
        "    num_samples = len(fnames)\n",
        "\n",
        "    train_split = 0.8\n",
        "    num_train = int(round(num_samples * train_split))\n",
        "    train_indexes = random.sample(range(num_samples), num_train)\n",
        "\n",
        "    for i in range(num_samples):\n",
        "        fname = fnames[i][8:]\n",
        "        label = labels[i]\n",
        "        (x1, y1, x2, y2) = bboxes[i]\n",
        "        src_path = os.path.join(src_folder, fname)\n",
        "\n",
        "        src_image = cv2.imread(src_path)\n",
        "        height, width = src_image.shape[:2]\n",
        "\n",
        "        # margins of 16 pixels (Crop image according to a given bounding box)\n",
        "        margin = 16\n",
        "        x1 = max(0, x1 - margin)\n",
        "        y1 = max(0, y1 - margin)\n",
        "        x2 = min(x2 + margin, width)\n",
        "        y2 = min(y2 + margin, height)\n",
        "\n",
        "        if i in train_indexes:\n",
        "            dst_folder = '/tmp/car_ims/train/'\n",
        "        else:\n",
        "            dst_folder = '/tmp/car_ims/valid/'\n",
        "\n",
        "        dst_path = os.path.join(dst_folder, label)\n",
        "        if not os.path.exists(dst_path):\n",
        "            os.makedirs(dst_path)\n",
        "        dst_path = os.path.join(dst_path, fname)\n",
        "        dst_image = src_image[y1:y2, x1:x2]\n",
        "        cv2.imwrite(dst_path, dst_image)"
      ],
      "execution_count": null,
      "outputs": []
    },
    {
      "cell_type": "markdown",
      "metadata": {
        "id": "L_hlq2krB2wL"
      },
      "source": [
        "### Download and Separate Data\n",
        "\n",
        "We first need to download the data from a remote server and seperate the data into training and testing sets. Note that you only need to download the data once, if you have downloaded the data before do not run the code in this section."
      ]
    },
    {
      "cell_type": "code",
      "metadata": {
        "colab": {
          "base_uri": "https://localhost:8080/",
          "height": 204
        },
        "id": "PbQqVEvLB1SZ",
        "outputId": "be2f2d2a-da3b-4e20-eced-b1860bca0330"
      },
      "source": [
        "!wget --no-check-certificate \\\n",
        "  http://ai.stanford.edu/~jkrause/car196/car_ims.tgz \\\n",
        "  -O /tmp/car_ims.tgz"
      ],
      "execution_count": null,
      "outputs": [
        {
          "output_type": "stream",
          "text": [
            "--2021-06-30 08:06:13--  http://ai.stanford.edu/~jkrause/car196/car_ims.tgz\n",
            "Resolving ai.stanford.edu (ai.stanford.edu)... 171.64.68.10\n",
            "Connecting to ai.stanford.edu (ai.stanford.edu)|171.64.68.10|:80... connected.\n",
            "HTTP request sent, awaiting response... 200 OK\n",
            "Length: 1956628579 (1.8G) [application/x-gzip]\n",
            "Saving to: ‘/tmp/car_ims.tgz’\n",
            "\n",
            "/tmp/car_ims.tgz    100%[===================>]   1.82G  15.0MB/s    in 1m 57s  \n",
            "\n",
            "2021-06-30 08:08:11 (15.9 MB/s) - ‘/tmp/car_ims.tgz’ saved [1956628579/1956628579]\n",
            "\n"
          ],
          "name": "stdout"
        }
      ]
    },
    {
      "cell_type": "code",
      "metadata": {
        "colab": {
          "base_uri": "https://localhost:8080/",
          "height": 204
        },
        "id": "BthGtb7KCYND",
        "outputId": "c70cd643-d20d-4748-ca7e-e9630edc74e9"
      },
      "source": [
        "!wget --no-check-certificate \\\n",
        "  http://ai.stanford.edu/~jkrause/car196/cars_annos.mat \\\n",
        "  -O /tmp/cars_annos.mat"
      ],
      "execution_count": null,
      "outputs": [
        {
          "output_type": "stream",
          "text": [
            "--2021-06-30 08:09:16--  http://ai.stanford.edu/~jkrause/car196/cars_annos.mat\n",
            "Resolving ai.stanford.edu (ai.stanford.edu)... 171.64.68.10\n",
            "Connecting to ai.stanford.edu (ai.stanford.edu)|171.64.68.10|:80... connected.\n",
            "HTTP request sent, awaiting response... 200 OK\n",
            "Length: 394471 (385K) [text/plain]\n",
            "Saving to: ‘/tmp/cars_annos.mat’\n",
            "\n",
            "/tmp/cars_annos.mat 100%[===================>] 385.23K   560KB/s    in 0.7s    \n",
            "\n",
            "2021-06-30 08:09:17 (560 KB/s) - ‘/tmp/cars_annos.mat’ saved [394471/394471]\n",
            "\n"
          ],
          "name": "stdout"
        }
      ]
    },
    {
      "cell_type": "code",
      "metadata": {
        "colab": {
          "base_uri": "https://localhost:8080/",
          "height": 204
        },
        "id": "Jy23994RCZ-B",
        "outputId": "a252e79e-d817-4a79-b0d2-c7338582ec13"
      },
      "source": [
        "!wget --no-check-certificate \\\n",
        "  http://ai.stanford.edu/~jkrause/car196/cars_test_annos_withlabels.mat \\\n",
        "  -O /tmp/cars_test_annos.mat"
      ],
      "execution_count": null,
      "outputs": [
        {
          "output_type": "stream",
          "text": [
            "--2021-06-30 08:08:11--  http://ai.stanford.edu/~jkrause/car196/cars_test_annos_withlabels.mat\n",
            "Resolving ai.stanford.edu (ai.stanford.edu)... 171.64.68.10\n",
            "Connecting to ai.stanford.edu (ai.stanford.edu)|171.64.68.10|:80... connected.\n",
            "HTTP request sent, awaiting response... 200 OK\n",
            "Length: 185758 (181K) [text/plain]\n",
            "Saving to: ‘/tmp/cars_test_annos.mat’\n",
            "\n",
            "/tmp/cars_test_anno 100%[===================>] 181.40K   477KB/s    in 0.4s    \n",
            "\n",
            "2021-06-30 08:08:12 (477 KB/s) - ‘/tmp/cars_test_annos.mat’ saved [185758/185758]\n",
            "\n"
          ],
          "name": "stdout"
        }
      ]
    },
    {
      "cell_type": "code",
      "metadata": {
        "id": "OCVPIypoCu5p"
      },
      "source": [
        "!rm -rf /tmp/car_ims/train/\n",
        "!rm -rf /tmp/car_ims/test/\n",
        "!rm -rf /tmp/car_ims/valid/"
      ],
      "execution_count": null,
      "outputs": []
    },
    {
      "cell_type": "markdown",
      "metadata": {
        "id": "yeu2slZpDOr5"
      },
      "source": [
        "Unzip the compressed data. (You do not need to understand how this works)"
      ]
    },
    {
      "cell_type": "code",
      "metadata": {
        "id": "AXO1W3XyDFBI"
      },
      "source": [
        "local_tar = '/tmp/car_ims.tgz'\n",
        "my_tar = tarfile.open(local_tar)\n",
        "my_tar.extractall('/tmp')\n",
        "my_tar.close()"
      ],
      "execution_count": null,
      "outputs": []
    },
    {
      "cell_type": "code",
      "metadata": {
        "colab": {
          "base_uri": "https://localhost:8080/",
          "height": 221
        },
        "id": "9DEM73RDDZXZ",
        "outputId": "b0c74673-8ada-4abb-94fa-566934c18259"
      },
      "source": [
        "car_annotation= sio.loadmat('/tmp/cars_annos.mat')\n",
        "\n",
        "annotations = car_annotation['annotations']\n",
        "annotations = np.transpose(annotations)\n",
        "\n",
        "fnames = []\n",
        "class_ids = []\n",
        "labels = []\n",
        "bboxes  = []\n",
        "for annotation in annotations:\n",
        "  bbox_x1 = annotation[0][1][0][0]\n",
        "  bbox_y1 = annotation[0][2][0][0]\n",
        "  bbox_x2 = annotation[0][3][0][0]\n",
        "  bbox_y2 = annotation[0][4][0][0]\n",
        "\n",
        "  class_id = annotation[0][5][0][0]\n",
        "  bboxes.append((bbox_x1, bbox_y1, bbox_x2, bbox_y2))\n",
        "  labels.append(f'{class_id:06}')\n",
        "\n",
        "  file_name = annotation[0][0][0]\n",
        "  class_ids.append(class_id)\n",
        "  fnames.append(file_name)\n",
        "\n",
        "labels_count = np.unique(class_ids).shape[0]\n",
        "print(np.unique(class_ids))\n",
        "print('The number of different cars is %d' % labels_count)\n",
        "\n",
        "save_train_data(fnames, labels, bboxes)"
      ],
      "execution_count": null,
      "outputs": [
        {
          "output_type": "stream",
          "text": [
            "[  1   2   3   4   5   6   7   8   9  10  11  12  13  14  15  16  17  18\n",
            "  19  20  21  22  23  24  25  26  27  28  29  30  31  32  33  34  35  36\n",
            "  37  38  39  40  41  42  43  44  45  46  47  48  49  50  51  52  53  54\n",
            "  55  56  57  58  59  60  61  62  63  64  65  66  67  68  69  70  71  72\n",
            "  73  74  75  76  77  78  79  80  81  82  83  84  85  86  87  88  89  90\n",
            "  91  92  93  94  95  96  97  98  99 100 101 102 103 104 105 106 107 108\n",
            " 109 110 111 112 113 114 115 116 117 118 119 120 121 122 123 124 125 126\n",
            " 127 128 129 130 131 132 133 134 135 136 137 138 139 140 141 142 143 144\n",
            " 145 146 147 148 149 150 151 152 153 154 155 156 157 158 159 160 161 162\n",
            " 163 164 165 166 167 168 169 170 171 172 173 174 175 176 177 178 179 180\n",
            " 181 182 183 184 185 186 187 188 189 190 191 192 193 194 195 196]\n",
            "The number of different cars is 196\n"
          ],
          "name": "stdout"
        }
      ]
    },
    {
      "cell_type": "markdown",
      "metadata": {
        "id": "e7Wx92qVDv6T"
      },
      "source": [
        "### Create a data generator"
      ]
    },
    {
      "cell_type": "code",
      "metadata": {
        "colab": {
          "base_uri": "https://localhost:8080/",
          "height": 51
        },
        "id": "9gJN7b7FOU6f",
        "outputId": "da483af4-4aed-492d-bd8a-832d2ee128c3"
      },
      "source": [
        "datagen = ImageDataGenerator()\n",
        "train_iter = datagen.flow_from_directory('/tmp/car_ims/train/', class_mode='categorical', batch_size=32)\n",
        "test_iter = datagen.flow_from_directory('/tmp/car_ims/valid/', class_mode='categorical', batch_size=32)"
      ],
      "execution_count": null,
      "outputs": [
        {
          "output_type": "stream",
          "text": [
            "Found 12948 images belonging to 196 classes.\n",
            "Found 3237 images belonging to 196 classes.\n"
          ],
          "name": "stdout"
        }
      ]
    },
    {
      "cell_type": "markdown",
      "metadata": {
        "id": "iDlR1FQyOp1_"
      },
      "source": [
        "### Build Model"
      ]
    },
    {
      "cell_type": "code",
      "metadata": {
        "id": "H8mAz2MuOU6k"
      },
      "source": [
        "# TODO\n",
        "from tensorflow.keras.models import Sequential\n",
        "from tensorflow.keras.layers import Dense, Conv2D, Flatten, MaxPooling2D\n",
        "\n",
        "# Replace this with your model, transfer learning is your best bet.\n",
        "model = Sequential([\n",
        "    Conv2D(16, (10, 10), strides=(2, 2), activation='relu', padding='same', input_shape=(256, 256, 3)),\n",
        "    MaxPooling2D(strides=(2, 2)),\n",
        "    Flatten(),\n",
        "    Dense(32, activation='relu'),\n",
        "    Dense(196, activation='softmax')\n",
        "])"
      ],
      "execution_count": null,
      "outputs": []
    },
    {
      "cell_type": "code",
      "metadata": {
        "id": "EXUZ-QlsOp2A",
        "outputId": "bf284cd1-eba6-4c42-80d3-51149c771cbc"
      },
      "source": [
        "model.summary()"
      ],
      "execution_count": null,
      "outputs": [
        {
          "output_type": "stream",
          "text": [
            "Model: \"sequential_1\"\n",
            "_________________________________________________________________\n",
            "Layer (type)                 Output Shape              Param #   \n",
            "=================================================================\n",
            "conv2d_3 (Conv2D)            (None, 128, 128, 16)      4816      \n",
            "_________________________________________________________________\n",
            "max_pooling2d_3 (MaxPooling2 (None, 64, 64, 16)        0         \n",
            "_________________________________________________________________\n",
            "flatten_1 (Flatten)          (None, 65536)             0         \n",
            "_________________________________________________________________\n",
            "dense_2 (Dense)              (None, 32)                2097184   \n",
            "_________________________________________________________________\n",
            "dense_3 (Dense)              (None, 196)               6468      \n",
            "=================================================================\n",
            "Total params: 2,108,468\n",
            "Trainable params: 2,108,468\n",
            "Non-trainable params: 0\n",
            "_________________________________________________________________\n"
          ],
          "name": "stdout"
        }
      ]
    },
    {
      "cell_type": "code",
      "metadata": {
        "id": "bT9PnIUvOp2A"
      },
      "source": [
        "# Training model\n",
        "model.compile(loss='categorical_crossentropy', optimizer='adam', metrics=['accuracy'])\n",
        "history = model.fit(train_iter, batch_size=128, epochs=5, validation_data=test_iter)"
      ],
      "execution_count": null,
      "outputs": []
    }
  ]
}